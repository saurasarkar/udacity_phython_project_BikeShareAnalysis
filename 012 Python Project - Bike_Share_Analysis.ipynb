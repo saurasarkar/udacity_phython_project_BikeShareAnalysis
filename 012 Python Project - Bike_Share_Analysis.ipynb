{
 "cells": [
  {
   "cell_type": "markdown",
   "metadata": {},
   "source": [
    "# 2016 US Bike Share Activity Snapshot\n",
    "\n",
    "## Table of Contents\n",
    "- [Introduction](#intro)\n",
    "- [Posing Questions](#pose_questions)\n",
    "- [Data Collection and Wrangling](#wrangling)\n",
    "  - [Condensing the Trip Data](#condensing)\n",
    "- [Exploratory Data Analysis](#eda)\n",
    "  - [Statistics](#statistics)\n",
    "  - [Visualizations](#visualizations)\n",
    "- [Performing Your Own Analysis](#eda_continued)\n",
    "- [Conclusions](#conclusions)\n",
    "\n",
    "<a id='intro'></a>\n",
    "## Introduction\n",
    "\n",
    "Over the past decade, bicycle-sharing systems have been growing in number and popularity in cities across the world. Bicycle-sharing systems allow users to rent bicycles for short trips, typically 30 minutes or less. Thanks to the rise in information technologies, it is easy for a user of the system to access a dock within the system to unlock or return bicycles. These technologies also provide a wealth of data that can be used to explore how these bike-sharing systems are used.\n",
    "\n",
    "In this project, you will perform an exploratory analysis on data provided by [Motivate](https://www.motivateco.com/), a bike-share system provider for many major cities in the United States. You will compare the system usage between three large cities: New York City, Chicago, and Washington, DC. You will also see if there are any differences within each system for those users that are registered, regular users and those users that are short-term, casual users."
   ]
  },
  {
   "cell_type": "markdown",
   "metadata": {},
   "source": [
    "<a id='pose_questions'></a>\n",
    "## Posing Questions\n",
    "\n",
    "Before looking at the bike sharing data, you should start by asking questions you might want to understand about the bike share data. Consider, for example, if you were working for Motivate. What kinds of information would you want to know about in order to make smarter business decisions? If you were a user of the bike-share service, what factors might influence how you would want to use the service?\n",
    "\n",
    "**Question 1**: Write at least two questions related to bike sharing that you think could be answered by data.\n",
    "\n",
    "**Answer**: How often do the regular users use the bikes? Do the regular users go over the 30 minutes limit? How often do all users go over the limit? Do casual users go over the limit? General percentage of casual users vs regular users? \n",
    "\n",
    "> **Tip**: If you double click on this cell, you will see the text change so that all of the formatting is removed. This allows you to edit this block of text. This block of text is written using [Markdown](http://daringfireball.net/projects/markdown/syntax), which is a way to format text using headers, links, italics, and many other options using a plain-text syntax. You will also use Markdown later in the Nanodegree program. Use **Shift** + **Enter** or **Shift** + **Return** to run the cell and show its rendered form."
   ]
  },
  {
   "cell_type": "markdown",
   "metadata": {},
   "source": [
    "<a id='wrangling'></a>\n",
    "## Data Collection and Wrangling\n",
    "\n",
    "Now it's time to collect and explore our data. In this project, we will focus on the record of individual trips taken in 2016 from our selected cities: New York City, Chicago, and Washington, DC. Each of these cities has a page where we can freely download the trip data.:\n",
    "\n",
    "- New York City (Citi Bike): [Link](https://www.citibikenyc.com/system-data)\n",
    "- Chicago (Divvy): [Link](https://www.divvybikes.com/system-data)\n",
    "- Washington, DC (Capital Bikeshare): [Link](https://www.capitalbikeshare.com/system-data)\n",
    "\n",
    "If you visit these pages, you will notice that each city has a different way of delivering its data. Chicago updates with new data twice a year, Washington DC is quarterly, and New York City is monthly. **However, you do not need to download the data yourself.** The data has already been collected for you in the `/data/` folder of the project files. While the original data for 2016 is spread among multiple files for each city, the files in the `/data/` folder collect all of the trip data for the year into one file per city. Some data wrangling of inconsistencies in timestamp format within each city has already been performed for you. In addition, a random 2% sample of the original data is taken to make the exploration more manageable. \n",
    "\n",
    "**Question 2**: However, there is still a lot of data for us to investigate, so it's a good idea to start off by looking at one entry from each of the cities we're going to analyze. Run the first code cell below to load some packages and functions that you'll be using in your analysis. Then, complete the second code cell to print out the first trip recorded from each of the cities (the second line of each data file).\n",
    "\n",
    "> **Tip**: You can run a code cell like you formatted Markdown cells above by clicking on the cell and using the keyboard shortcut **Shift** + **Enter** or **Shift** + **Return**. Alternatively, a code cell can be executed using the **Play** button in the toolbar after selecting it. While the cell is running, you will see an asterisk in the message to the left of the cell, i.e. `In [*]:`. The asterisk will change into a number to show that execution has completed, e.g. `In [1]`. If there is output, it will show up as `Out [1]:`, with an appropriate number to match the \"In\" number."
   ]
  },
  {
   "cell_type": "code",
   "execution_count": 1,
   "metadata": {},
   "outputs": [],
   "source": [
    "## import all necessary packages and functions.\n",
    "import csv # read and write csv files\n",
    "from datetime import datetime # operations to parse dates\n",
    "\n",
    "    #This function prints and returns the first data point (second row) from\n",
    "    #a csv file that includes a header row.\n",
    "    \n",
    "    # print city name for reference from the file name, without looking into the file\n",
    "    # for example './data/NYC-CitiBike-20\n",
    "from pprint import pprint # use to print data structures like dictionaries in\n",
    "                          # a nicer way than the base print function."
   ]
  },
  {
   "cell_type": "code",
   "execution_count": 2,
   "metadata": {},
   "outputs": [
    {
     "name": "stdout",
     "output_type": "stream",
     "text": [
      "\n",
      "City: NYC\n",
      "OrderedDict([('tripduration', '839'),\n",
      "             ('starttime', '1/1/2016 00:09:55'),\n",
      "             ('stoptime', '1/1/2016 00:23:54'),\n",
      "             ('start station id', '532'),\n",
      "             ('start station name', 'S 5 Pl & S 4 St'),\n",
      "             ('start station latitude', '40.710451'),\n",
      "             ('start station longitude', '-73.960876'),\n",
      "             ('end station id', '401'),\n",
      "             ('end station name', 'Allen St & Rivington St'),\n",
      "             ('end station latitude', '40.72019576'),\n",
      "             ('end station longitude', '-73.98997825'),\n",
      "             ('bikeid', '17109'),\n",
      "             ('usertype', 'Customer'),\n",
      "             ('birth year', ''),\n",
      "             ('gender', '0')])\n",
      "\n",
      "City: Chicago\n",
      "OrderedDict([('trip_id', '9080545'),\n",
      "             ('starttime', '3/31/2016 23:30'),\n",
      "             ('stoptime', '3/31/2016 23:46'),\n",
      "             ('bikeid', '2295'),\n",
      "             ('tripduration', '926'),\n",
      "             ('from_station_id', '156'),\n",
      "             ('from_station_name', 'Clark St & Wellington Ave'),\n",
      "             ('to_station_id', '166'),\n",
      "             ('to_station_name', 'Ashland Ave & Wrightwood Ave'),\n",
      "             ('usertype', 'Subscriber'),\n",
      "             ('gender', 'Male'),\n",
      "             ('birthyear', '1990')])\n",
      "\n",
      "City: Washington\n",
      "OrderedDict([('Duration (ms)', '427387'),\n",
      "             ('Start date', '3/31/2016 22:57'),\n",
      "             ('End date', '3/31/2016 23:04'),\n",
      "             ('Start station number', '31602'),\n",
      "             ('Start station', 'Park Rd & Holmead Pl NW'),\n",
      "             ('End station number', '31207'),\n",
      "             ('End station', 'Georgia Ave and Fairmont St NW'),\n",
      "             ('Bike number', 'W20842'),\n",
      "             ('Member Type', 'Registered')])\n"
     ]
    }
   ],
   "source": [
    "def print_first_point(filename):\n",
    "    \"\"\"\n",
    "    This function prints and returns the first data point (second row) from\n",
    "    a csv file that includes a header row.\n",
    "    \"\"\"\n",
    "    # print city name for reference from the file name, without looking into the file\n",
    "    # for example './data/NYC-CitiBike-2016.csv'\n",
    "    # will return NYC from .. /NYC- .. \n",
    "       #start by parsing the file's name\n",
    "    city = filename.split('-')[0].split('/')[-1]\n",
    "    print('\\nCity: {}'.format(city))\n",
    "    \n",
    "    with open(filename, 'r') as f_in:\n",
    "        ## TODO: Use the csv library to set up a DictReader object. ##\n",
    "        ## see https://docs.python.org/3/library/csv.html           ##\n",
    "        #DictReader can be used to specify 'field names', which by default (if not specified)\n",
    "            #is taken to be the first row of the file\n",
    "            #since field name is not specified, first row will be the field name\n",
    "            # When you set up a DictReader object, the first row of the data file is normally interpreted as column names. \n",
    "            #Every other row in the data file will use those column names as keys, \n",
    "            #as a dictionary is generated for each row.([(1st field name, 1st value), (2nd name, 2nd value)..])\n",
    "        trip_reader = csv.DictReader(f_in)\n",
    "        \n",
    "        ## TODO: Use a function on the DictReader object to read the     ##\n",
    "        ## first trip from the data file and store it in a variable.     ##\n",
    "        ## see https://docs.python.org/3/library/csv.html#reader-objects ##\n",
    "            #use next() Dict function on DictReader object to grab the first row of the dictionary\n",
    "        first_trip = next(trip_reader)\n",
    "        \n",
    "        ## TODO: Use the pprint library to print the first trip. ##\n",
    "        ## see https://docs.python.org/3/library/pprint.html     ##\n",
    "            #Will print each column in a new line\n",
    "        pprint(first_trip)\n",
    "        \n",
    "    # output city name and first trip for later testing\n",
    "    return (city, first_trip)\n",
    "\n",
    "# list of files for each city\n",
    "data_files = ['./data/NYC-CitiBike-2016.csv',\n",
    "              './data/Chicago-Divvy-2016.csv',\n",
    "              './data/Washington-CapitalBikeshare-2016.csv',]\n",
    "\n",
    "# print the first trip from each file, store in dictionary\n",
    "# NOTE: ideal set to use to test out the rest of the upcoming logic\n",
    "    #LATER: Follow the same process of setting up a dictionary which will collect compressed info\n",
    "example_trips = {}\n",
    "for data_file in data_files:\n",
    "    city, first_trip = print_first_point(data_file)\n",
    "    example_trips[city] = first_trip\n",
    "    "
   ]
  },
  {
   "cell_type": "markdown",
   "metadata": {},
   "source": [
    "If everything has been filled out correctly, you should see below the printout of each city name (which has been parsed from the data file name) that the first trip has been parsed in the form of a dictionary. When you set up a `DictReader` object, the first row of the data file is normally interpreted as column names. Every other row in the data file will use those column names as keys, as a dictionary is generated for each row.\n",
    "\n",
    "This will be useful since we can refer to quantities by an easily-understandable label instead of just a numeric index. For example, **if we have a trip stored in the variable `row`, then we would rather get the trip duration from `row['duration']` instead of `row[0]`.**\n",
    "\n",
    "<a id='condensing'></a>\n",
    "### Condensing the Trip Data\n",
    "\n",
    "It should also be observable from the above printout that each city provides different information. Even where the information is the same, the column names and formats are sometimes different. To make things as simple as possible when we get to the actual exploration, we should trim and clean the data. Cleaning the data makes sure that the data formats across the cities are consistent, while trimming focuses only on the parts of the data we are most interested in to make the exploration easier to work with.\n",
    "\n",
    "You will generate new data files with five values of interest for each trip: trip duration, starting month, starting hour, day of the week, and user type. Each of these may require additional wrangling depending on the city:\n",
    "\n",
    "- **Duration**: This has been given to us in seconds (New York, Chicago) or milliseconds (Washington). A more natural unit of analysis will be if all the trip durations are given in terms of minutes.\n",
    "- **Month**, **Hour**, **Day of Week**: Ridership volume is likely to change based on the season, time of day, and whether it is a weekday or weekend. Use the start time of the trip to obtain these values. The New York City data includes the seconds in their timestamps, while Washington and Chicago do not. The [`datetime`](https://docs.python.org/3/library/datetime.html) package will be very useful here to make the needed conversions.\n",
    "- **User Type**: It is possible that users who are subscribed to a bike-share system will have different patterns of use compared to users who only have temporary passes. Washington divides its users into two types: 'Registered' for users with annual, monthly, and other longer-term subscriptions, and 'Casual', for users with 24-hour, 3-day, and other short-term passes. The New York and Chicago data uses 'Subscriber' and 'Customer' for these groups, respectively. For consistency, you will convert the Washington labels to match the other two.\n",
    "\n",
    "\n",
    "**Question 3a**: Complete the helper functions in the code cells below to address each of the cleaning tasks described above."
   ]
  },
  {
   "cell_type": "code",
   "execution_count": 4,
   "metadata": {},
   "outputs": [],
   "source": [
    "def duration_in_mins(datum, city):\n",
    "    \"\"\"\n",
    "    Takes as input a dictionary containing info about a single trip (datum) and\n",
    "    its origin city (city) and returns the trip duration in units of minutes.\n",
    "    \n",
    "    Remember that Washington is in terms of milliseconds while Chicago and NYC\n",
    "    are in terms of seconds. \n",
    "    \n",
    "    HINT: The csv module reads in all of the data as strings, including numeric\n",
    "    values. You will need a function to convert the strings into an appropriate\n",
    "    numeric type when making your transformations.\n",
    "    see https://docs.python.org/3/library/functions.html\n",
    "    \"\"\"\n",
    "    \n",
    "    # YOUR CODE HERE\n",
    "    if city == 'NYC' or city == 'Chicago':\n",
    "        duration = float(datum['tripduration'])\n",
    "        return duration/60\n",
    "    elif city == 'Washington':\n",
    "        duration = float(datum['Duration (ms)'])\n",
    "        return duration/60000\n",
    "\n",
    "# Some tests to check that your code works. There should be no output if all of\n",
    "# the assertions pass. The `example_trips` dictionary was obtained from when\n",
    "# you printed the first trip from each of the original data files.\n",
    "tests = {'NYC': 13.9833,\n",
    "         'Chicago': 15.4333,\n",
    "         'Washington': 7.1231}\n",
    "\n",
    "for city in tests:\n",
    "    assert abs(duration_in_mins(example_trips[city], city) - tests[city]) < .001\n",
    "    "
   ]
  },
  {
   "cell_type": "code",
   "execution_count": 4,
   "metadata": {
    "collapsed": true
   },
   "outputs": [],
   "source": [
    "def time_of_trip(datum, city):\n",
    "    \"\"\"\n",
    "    Takes as input a dictionary containing info about a single trip (datum) and\n",
    "    its origin city (city) and returns the month, hour, and day of the week in\n",
    "    which the trip was made.\n",
    "    \n",
    "    Remember that NYC includes seconds, while Washington and Chicago do not.\n",
    "    \n",
    "    HINT: You should use the datetime module to parse the original date\n",
    "    strings into a format that is useful for extracting the desired information.\n",
    "    see https://docs.python.org/3/library/datetime.html#strftime-and-strptime-behavior\n",
    "    \"\"\"\n",
    "    \n",
    "    if city == 'Chicago':\n",
    "        # Strip time in matching format using strptime\n",
    "        date = datetime.strptime(datum['starttime'], '%m/%d/%Y %H:%M')\n",
    "    elif city == 'Washington':\n",
    "        # Strip time in matching format using strptime\n",
    "        date = datetime.strptime(datum['Start date'], '%m/%d/%Y %H:%M')\n",
    "    elif city ==  'NYC':\n",
    "        date = datetime.strptime(datum['starttime'],  '%m/%d/%Y %H:%M:%S')     \n",
    "            \n",
    "    #Use strFtime to parse the parts that you need    \n",
    "    #Make sure you convert to type int\n",
    "    month = int(datetime.strftime(date, '%m'))\n",
    "    hour = int(datetime.strftime(date, '%H'))\n",
    "    day_of_week = datetime.strftime(date, '%A')\n",
    "    \n",
    "    return (month, hour, day_of_week)\n",
    "\n",
    "\n",
    "\n",
    "# Some tests to check that your code works. There should be no output if all of\n",
    "# the assertions pass. The `example_trips` dictionary was obtained from when\n",
    "# you printed the first trip from each of the original data files.\n",
    "tests = {'NYC': (1, 0, 'Friday'),\n",
    "         'Chicago': (3, 23, 'Thursday'),\n",
    "         'Washington': (3, 22, 'Thursday')}\n",
    "\n",
    "for city in tests:\n",
    "    assert time_of_trip(example_trips[city], city) == tests[city]\n",
    "    \n"
   ]
  },
  {
   "cell_type": "code",
   "execution_count": 5,
   "metadata": {
    "collapsed": true
   },
   "outputs": [],
   "source": [
    "def type_of_user(datum, city):\n",
    "    \"\"\"\n",
    "    Takes as input a dictionary containing info about a single trip (datum) and\n",
    "    its origin city (city) and returns the type of system user that made the\n",
    "    trip.\n",
    "    \n",
    "    Remember that Washington has different category names compared to Chicago\n",
    "    and NYC. \n",
    "    \"\"\"\n",
    "    \n",
    "    # YOUR CODE HERE\n",
    "    if city == 'Chicago' or city == 'NYC':\n",
    "        user_type = datum['usertype']\n",
    "    elif city == 'Washington':\n",
    "        user_type = datum['Member Type']\n",
    "    return user_type\n",
    "\n",
    "\n",
    "# Some tests to check that your code works. There should be no output if all of\n",
    "# the assertions pass. The `example_trips` dictionary was obtained from when\n",
    "# you printed the first trip from each of the original data files.\n",
    "tests = {'NYC': 'Customer',\n",
    "         'Chicago': 'Subscriber',\n",
    "         'Washington': 'Registered'}\n",
    "\n",
    "for city in tests:\n",
    "    assert type_of_user(example_trips[city], city) == tests[city]"
   ]
  },
  {
   "cell_type": "markdown",
   "metadata": {},
   "source": [
    "**Question 3b**: Now, use the helper functions you wrote above to create a condensed data file for each city consisting only of the data fields indicated above. In the `/examples/` folder, you will see an example datafile from the [Bay Area Bike Share](http://www.bayareabikeshare.com/open-data) before and after conversion. Make sure that your output is formatted to be consistent with the example file."
   ]
  },
  {
   "cell_type": "code",
   "execution_count": 6,
   "metadata": {
    "collapsed": true
   },
   "outputs": [],
   "source": [
    "def condense_data(in_file, out_file, city):\n",
    "    \"\"\"\n",
    "    This function takes full data from the specified input file\n",
    "    and writes the condensed data to a specified output file. The city\n",
    "    argument determines how the input file will be parsed.\n",
    "    \n",
    "    HINT: See the cell below to see how the arguments are structured!\n",
    "    \"\"\"\n",
    "    \n",
    "    with open(out_file, 'w') as f_out, open(in_file, 'r') as f_in:\n",
    "        # set up csv DictWriter object - writer requires column names for the\n",
    "        # first row as the \"fieldnames\" argument\n",
    "        out_colnames = ['duration', 'month', 'hour', 'day_of_week', 'user_type']        \n",
    "        trip_writer = csv.DictWriter(f_out, fieldnames = out_colnames)\n",
    "        trip_writer.writeheader()\n",
    "        \n",
    "        ## TODO: set up csv DictReader object ##\n",
    "        trip_reader = csv.DictReader(f_in)\n",
    "        \n",
    "        \n",
    "        # collect data from and process each row\n",
    "        for row in trip_reader:\n",
    "            # set up a dictionary to hold the values for the cleaned and trimmed\n",
    "            # data point\n",
    "            new_point = {}\n",
    "\n",
    "            ## TODO: use the helper functions to get the cleaned data from  ##\n",
    "            ## the original data dictionaries.                              ##\n",
    "            ## Note that the keys for the new_point dictionary should match ##\n",
    "            ## the column names set in the DictWriter object above.         ##\n",
    "            new_point['duration'] = duration_in_mins(row, city)\n",
    "            \n",
    "            new_point['month'] = time_of_trip(row, city)[0]\n",
    "            new_point['hour'] = time_of_trip(row, city)[1]\n",
    "            new_point['day_of_week'] = time_of_trip(row, city)[2]\n",
    "            \n",
    "            new_point['user_type'] = type_of_user(row, city)\n",
    "\n",
    "            ## TODO: write the processed information to the output file.     ##\n",
    "            ## see https://docs.python.org/3/library/csv.html#writer-objects ##\n",
    "            trip_writer.writerow(new_point)\n",
    "            "
   ]
  },
  {
   "cell_type": "code",
   "execution_count": 7,
   "metadata": {},
   "outputs": [
    {
     "name": "stdout",
     "output_type": "stream",
     "text": [
      "\n",
      "City: Washington\n",
      "OrderedDict([('duration', '7.123116666666666'),\n",
      "             ('month', '3'),\n",
      "             ('hour', '22'),\n",
      "             ('day_of_week', 'Thursday'),\n",
      "             ('user_type', 'Registered')])\n",
      "\n",
      "City: Chicago\n",
      "OrderedDict([('duration', '15.433333333333334'),\n",
      "             ('month', '3'),\n",
      "             ('hour', '23'),\n",
      "             ('day_of_week', 'Thursday'),\n",
      "             ('user_type', 'Subscriber')])\n",
      "\n",
      "City: NYC\n",
      "OrderedDict([('duration', '13.983333333333333'),\n",
      "             ('month', '1'),\n",
      "             ('hour', '0'),\n",
      "             ('day_of_week', 'Friday'),\n",
      "             ('user_type', 'Customer')])\n"
     ]
    }
   ],
   "source": [
    "# Run this cell to check your work\n",
    "city_info = {'Washington': {'in_file': './data/Washington-CapitalBikeshare-2016.csv',\n",
    "                            'out_file': './data/Washington-2016-Summary.csv'},\n",
    "             'Chicago': {'in_file': './data/Chicago-Divvy-2016.csv',\n",
    "                         'out_file': './data/Chicago-2016-Summary.csv'},\n",
    "             'NYC': {'in_file': './data/NYC-CitiBike-2016.csv',\n",
    "                     'out_file': './data/NYC-2016-Summary.csv'}}\n",
    "\n",
    "for city, filenames in city_info.items():\n",
    "    condense_data(filenames['in_file'], filenames['out_file'], city)\n",
    "    print_first_point(filenames['out_file'])"
   ]
  },
  {
   "cell_type": "markdown",
   "metadata": {},
   "source": [
    "> **Tip**: If you save a jupyter Notebook, the output from running code blocks will also be saved. However, the state of your workspace will be reset once a new session is started. Make sure that you run all of the necessary code blocks from your previous session to reestablish variables and functions before picking up where you last left off.\n",
    "\n",
    "<a id='eda'></a>\n",
    "## Exploratory Data Analysis\n",
    "\n",
    "Now that you have the data collected and wrangled, you're ready to start exploring the data. In this section you will write some code to compute descriptive statistics from the data. You will also be introduced to the `matplotlib` library to create some basic histograms of the data.\n",
    "\n",
    "<a id='statistics'></a>\n",
    "### Statistics\n",
    "\n",
    "First, let's compute some basic counts. The first cell below contains a function that uses the csv module to iterate through a provided data file, returning the number of trips made by subscribers and customers. The second cell runs this function on the example Bay Area data in the `/examples/` folder. Modify the cells to answer the question below.\n",
    "\n",
    "**Question 4a**: Which city has the highest number of trips? Which city has the highest proportion of trips made by subscribers? Which city has the highest proportion of trips made by short-term customers?\n",
    "\n",
    "**Answer**: \n",
    "- City with the highest number of trips: **NYC**\n",
    "- City with highest proportion of trips made by subscribers: **NYC**\n",
    "- City with highest proportion of trips by short-term customer: **Chicago**"
   ]
  },
  {
   "cell_type": "code",
   "execution_count": 8,
   "metadata": {
    "collapsed": true
   },
   "outputs": [],
   "source": [
    "def number_of_trips(filename):\n",
    "    \"\"\"\n",
    "    This function reads in a file with trip data and reports tthe total number of trips\n",
    "        and goes further to show the proportion of trips split according to user_type\n",
    "    \"\"\"\n",
    "    with open(filename, 'r') as f_in:\n",
    "        # set up csv reader object\n",
    "        reader = csv.DictReader(f_in)\n",
    "        \n",
    "        # determine city from filename\n",
    "        city = filename.split('-')[0].split('/')[-1]\n",
    "        \n",
    "        # initialize count variables\n",
    "        n_subscribers = 0\n",
    "        n_customers = 0\n",
    "       \n",
    "        # tally up ride types based on city\n",
    "        if city == 'Washington':\n",
    "            for row in reader:\n",
    "                if row['user_type'] == 'Registered': \n",
    "                    n_subscribers += 1\n",
    "                else:\n",
    "                    n_customers += 1\n",
    "        elif city == 'Chicago' or city == 'NYC':\n",
    "            for row in reader:\n",
    "                if row['user_type'] == 'Subscriber':\n",
    "                    n_subscribers += 1\n",
    "                else:\n",
    "                    n_customers += 1\n",
    "        # compute total number of rides\n",
    "        n_total = n_subscribers + n_customers\n",
    "        # return tallies as a tuple\n",
    "        return(n_total, n_subscribers/n_total, n_customers/n_total)\n",
    "        \n",
    "        \n",
    "        \n",
    "        "
   ]
  },
  {
   "cell_type": "code",
   "execution_count": 9,
   "metadata": {},
   "outputs": [
    {
     "name": "stdout",
     "output_type": "stream",
     "text": [
      "NYC\n",
      "(276798, 0.8883590199351151, 0.11164098006488486)\n",
      "Chicago\n",
      "(72131, 0.7622520136973008, 0.23774798630269925)\n",
      "Washington\n",
      "(66326, 0.7802822422579381, 0.21971775774206193)\n"
     ]
    }
   ],
   "source": [
    "## Modify this and the previous cell to answer Question 4a. Remember to run ##\n",
    "## the function on the cleaned data files you created from Question 3.      ##\n",
    "\n",
    "data_file = './data/NYC-2016-Summary.csv'\n",
    "print('NYC')\n",
    "print(number_of_trips(data_file))\n",
    "data_file = './data/Chicago-2016-Summary.csv'\n",
    "print('Chicago')\n",
    "print(number_of_trips(data_file))\n",
    "data_file = './data/Washington-2016-Summary.csv'\n",
    "print('Washington')\n",
    "print(number_of_trips(data_file))"
   ]
  },
  {
   "cell_type": "markdown",
   "metadata": {},
   "source": [
    "> **Tip**: In order to add additional cells to a notebook, you can use the \"Insert Cell Above\" and \"Insert Cell Below\" options from the menu bar above. There is also an icon in the toolbar for adding new cells, with additional icons for moving the cells up and down the document. By default, new cells are of the code type; you can also specify the cell type (e.g. Code or Markdown) of selected cells from the Cell menu or the dropdown in the toolbar.\n",
    "\n",
    "Now, you will write your own code to continue investigating properties of the data.\n",
    "\n",
    "**Question 4b**: Bike-share systems are designed for riders to take short trips. Most of the time, users are allowed to take trips of 30 minutes or less with no additional charges, with overage charges made for trips of longer than that duration. What is the average trip length for each city? What proportion of rides made in each city are longer than 30 minutes?\n",
    "\n",
    "**Answer**: \n",
    "- The average length of the trip in NYC is 15.8 minutes\n",
    "- The average length of the trip in Chicago is 16.6 minutes\n",
    "- The average length of the trip in Washington is 18.9 minutes\n",
    "\n",
    "- The percentage of trips in NYC over 30 minutes is 7.3%\n",
    "- The percentage of trips in Chicago over 30 minutes is 8.3%\n",
    "- The percentage of trips in Washington over 30 minutes is 10.8%"
   ]
  },
  {
   "cell_type": "code",
   "execution_count": 10,
   "metadata": {
    "scrolled": true
   },
   "outputs": [
    {
     "name": "stdout",
     "output_type": "stream",
     "text": [
      "14.0\n"
     ]
    }
   ],
   "source": [
    "## Use this and additional cells to answer Question 4b.                 ##\n",
    "##                                                                      ##\n",
    "## HINT: The csv module reads in all of the data as strings, including  ##\n",
    "## numeric values. You will need a function to convert the strings      ##\n",
    "## into an appropriate numeric type before you aggregate data.          ##\n",
    "## TIP: For the Bay Area example, the average trip length is 14 minutes ##\n",
    "## and 3.5% of trips are longer than 30 minutes.                        ##\n",
    "\n",
    "def avg_trip_length(filename):\n",
    "    \"\"\" takes filename for specific city and determines city name \n",
    "            and calculates average trip length for duration\n",
    "        total     type float to hold the total as a accurate amount\n",
    "        count     type int to calculate average of total \n",
    "        Will return in type int - which automatically rounds down\n",
    "    \"\"\"\n",
    "    \n",
    "    with open(filename, 'r') as f_in:\n",
    "        # set up csv reader object\n",
    "        reader = csv.DictReader(f_in)\n",
    "        \n",
    "        #use for to go through all data and iterate total amounnt\n",
    "        #also ensure that string values are converted to float\n",
    "        total = 0.0\n",
    "        count = 0\n",
    "        for row in reader:\n",
    "            total += float(row['duration'])\n",
    "            count += 1\n",
    "        #CHANGE: return int(total/count)\n",
    "        #changing return to use later in 4c requiring 1 decimal point\n",
    "        return round(total/count,1), \n",
    "\n",
    "# test with bay area file to ensure average_trip_length() function works\n",
    "# expected value is 14 mins\n",
    "datafile = './examples/BayArea-Y3-Summary.csv'\n",
    "print(str(avg_trip_length(datafile)))    \n"
   ]
  },
  {
   "cell_type": "code",
   "execution_count": 11,
   "metadata": {},
   "outputs": [
    {
     "name": "stdout",
     "output_type": "stream",
     "text": [
      "The average length of the trip in NYC is 15.8 minutes\n",
      "The average length of the trip in Chicago is 16.6 minutes\n",
      "The average length of the trip in Washington is 18.9 minutes\n"
     ]
    }
   ],
   "source": [
    "## print to display averages for the three cities \n",
    "datafile_list = ('./data/NYC-2016-Summary.csv', './data/Chicago-2016-Summary.csv', './data/Washington-2016-Summary.csv')\n",
    "for datafile in datafile_list:\n",
    "    avg_string = str(avg_trip_length(datafile))  \n",
    "    # determine city from filename\n",
    "    city = datafile.split('-')[0].split('/')[-1]\n",
    "    print(\"The average length of the trip in {} is {} minutes\".format(city, avg_string))\n",
    "\n",
    "        "
   ]
  },
  {
   "cell_type": "code",
   "execution_count": 12,
   "metadata": {},
   "outputs": [
    {
     "name": "stdout",
     "output_type": "stream",
     "text": [
      "3.5\n"
     ]
    }
   ],
   "source": [
    "# Write function to determine the count of trips that are longer that 30 mins\n",
    "def thirty_plus_trip(filename):\n",
    "    \"\"\"takes filename of type string and use csv to create reader object\n",
    "        Go through the 'duration' field in file and return percentage of trips longer than 30 minutes\n",
    "        total_count: type int         To calculate percentage against\n",
    "        thirty_plus_count: type int   Use conditional to determine greater than 30 mins\n",
    "    \"\"\"\n",
    "    with open(filename, 'r') as f_in:\n",
    "        # set up csv reader object\n",
    "        reader = csv.DictReader(f_in)\n",
    "        \n",
    "        #for statement to go through each line\n",
    "        #ensure that what you are returning from csv is converted to int\n",
    "        total_count = 0\n",
    "        thirty_plus_count = 0\n",
    "        for row in reader:\n",
    "            total_count += 1\n",
    "            if float(row['duration']) > 30.0:\n",
    "                thirty_plus_count += 1\n",
    "    return float((thirty_plus_count/total_count)*100)\n",
    "\n",
    "#Test with BayArea to see if function works. Expected result is 3.5\n",
    "datafile = './examples/BayArea-Y3-Summary.csv'\n",
    "print(round(thirty_plus_trip(datafile),1))"
   ]
  },
  {
   "cell_type": "code",
   "execution_count": 13,
   "metadata": {},
   "outputs": [
    {
     "name": "stdout",
     "output_type": "stream",
     "text": [
      "The percentage of trips in NYC over 30 minutes is 7.3%\n",
      "The percentage of trips in Chicago over 30 minutes is 8.3%\n",
      "The percentage of trips in Washington over 30 minutes is 10.8%\n"
     ]
    }
   ],
   "source": [
    "## Display percentage of trips over 30 minutes for the three cities \n",
    "datafile_list = ('./data/NYC-2016-Summary.csv', './data/Chicago-2016-Summary.csv', './data/Washington-2016-Summary.csv')\n",
    "for datafile in datafile_list:\n",
    "    percentage_string = str(round(thirty_plus_trip(datafile),1))  \n",
    "    # determine city from filename\n",
    "    city = datafile.split('-')[0].split('/')[-1]\n",
    "    print(\"The percentage of trips in {} over 30 minutes is {}%\".format(city, percentage_string))"
   ]
  },
  {
   "cell_type": "markdown",
   "metadata": {},
   "source": [
    "**Question 4c**: Dig deeper into the question of trip duration based on ridership. Choose one city. Within that city, which type of user takes longer rides on average: Subscribers or Customers?\n",
    "\n",
    "**Answer**: On average it is Customers who take longer rides on average, and it is by a lot "
   ]
  },
  {
   "cell_type": "code",
   "execution_count": 14,
   "metadata": {},
   "outputs": [
    {
     "data": {
      "text/plain": [
       "(9.5, 54.6)"
      ]
     },
     "execution_count": 14,
     "metadata": {},
     "output_type": "execute_result"
    }
   ],
   "source": [
    "## Use this and additional cells to answer Question 4c. If you have    ##\n",
    "## not done so yet, consider revising some of your previous code to    ##\n",
    "## make use of functions for reusability.                              ##\n",
    "##                                                                     ##\n",
    "## TIP: For the Bay Area example data, you should find the average     ##\n",
    "## Subscriber trip duration to be 9.5 minutes and the average Customer ##\n",
    "## trip duration to be 54.6 minutes. Do the other cities have this     ##\n",
    "## level of difference?                                                ##\n",
    "\n",
    "## All commented out code below was an attempt to call another function\n",
    "## presently getting results without calling function in order to move on\n",
    "\n",
    "def duration_by_user(filename):\n",
    "    \"\"\"function to determine average times by customer type\n",
    "    subscriber_count:type int    count of user_type subscriber\n",
    "    customer_count:type int      count of user_type customer\n",
    "    subscriber_sum and customer_sum:type float    sum of durations\n",
    "    \"\"\"\n",
    "    subscriber_count = 0\n",
    "    customer_count = 0\n",
    "    subscriber_sum = 0.0\n",
    "    customer_sum = 0.0\n",
    "    #customer_list = ['duration']\n",
    "    #subscriber_list = ['duration']\n",
    "    with open(filename, 'r') as f_in:\n",
    "        # set up csv reader object\n",
    "        reader = csv.DictReader(f_in)\n",
    "        \n",
    "        for row in reader:\n",
    "            if row['user_type'] == 'Subscriber':\n",
    "                subscriber_count += 1\n",
    "                subscriber_sum += float(row['duration'])\n",
    "                #subscriber_list.append(row['duration'])\n",
    "            elif row['user_type'] == 'Customer':\n",
    "                customer_count += 1\n",
    "                customer_sum += float(row['duration'])\n",
    "                #customer_list.append(row['duration'])\n",
    "    subscriber_average = round(subscriber_sum/subscriber_count, 1)\n",
    "    customer_average = round(customer_sum/customer_count, 1)\n",
    "    \n",
    "    #use join statement to put all list items into new line\n",
    "    #subscriber_file = \"\\n\".join(subscriber_list)\n",
    "    #customer_file = str(\"\\n\".join(customer_list))\n",
    "    \n",
    "    #return tuple \n",
    "    return subscriber_average, customer_average\n",
    "    \n",
    "#Test function using bay area data. Expected values are 54.6(customer) and 9.5(subscriber)\n",
    "datafile = './examples/BayArea-Y3-Summary.csv'\n",
    "#print(duration_by_user(datafile))\n",
    "#filename = duration_by_user(datafile).strip()\n",
    "\n",
    "duration_by_user(datafile)"
   ]
  },
  {
   "cell_type": "code",
   "execution_count": 15,
   "metadata": {},
   "outputs": [
    {
     "data": {
      "text/plain": [
       "(12.1, 31.0)"
      ]
     },
     "execution_count": 15,
     "metadata": {},
     "output_type": "execute_result"
    }
   ],
   "source": [
    "## For compatibility of 'user_type', will be using Chicago\n",
    "datafile = './data/Chicago-2016-Summary.csv'\n",
    "duration_by_user(datafile)"
   ]
  },
  {
   "cell_type": "markdown",
   "metadata": {},
   "source": [
    "<a id='visualizations'></a>\n",
    "### Visualizations\n",
    "\n",
    "The last set of values that you computed should have pulled up an interesting result. While the mean trip time for Subscribers is well under 30 minutes, the mean trip time for Customers is actually _above_ 30 minutes! It will be interesting for us to look at how the trip times are distributed. In order to do this, a new library will be introduced here, `matplotlib`. Run the cell below to load the library and to generate an example plot."
   ]
  },
  {
   "cell_type": "code",
   "execution_count": 16,
   "metadata": {},
   "outputs": [
    {
     "data": {
      "image/png": "[encoded data removed]",
      "text/plain": [
       "<matplotlib.figure.Figure at 0x7fa6a530a5f8>"
      ]
     },
     "metadata": {},
     "output_type": "display_data"
    }
   ],
   "source": [
    "# load library\n",
    "import matplotlib.pyplot as plt\n",
    "\n",
    "# this is a 'magic word' that allows for plots to be displayed\n",
    "# inline with the notebook. If you want to know more, see:\n",
    "# http://ipython.readthedocs.io/en/stable/interactive/magics.html\n",
    "%matplotlib inline \n",
    "\n",
    "# example histogram, data taken from bay area sample\n",
    "data = [ 7.65,  8.92,  7.42,  5.50, 16.17,  4.20,  8.98,  9.62, 11.48, 14.33,\n",
    "        19.02, 21.53,  3.90,  7.97,  2.62,  2.67,  3.08, 14.40, 12.90,  7.83,\n",
    "        25.12,  8.30,  4.93, 12.43, 10.60,  6.17, 10.88,  4.78, 15.15,  3.53,\n",
    "         9.43, 13.32, 11.72,  9.85,  5.22, 15.10,  3.95,  3.17,  8.78,  1.88,\n",
    "         4.55, 12.68, 12.38,  9.78,  7.63,  6.45, 17.38, 11.90, 11.52,  8.63,]\n",
    "plt.hist(data)\n",
    "plt.title('Distribution of Trip Durations')\n",
    "plt.xlabel('Duration (m)')\n",
    "plt.show()"
   ]
  },
  {
   "cell_type": "markdown",
   "metadata": {},
   "source": [
    "In the above cell, we collected fifty trip times in a list, and passed this list as the first argument to the `.hist()` function. This function performs the computations and creates plotting objects for generating a histogram, but the plot is actually not rendered until the `.show()` function is executed. The `.title()` and `.xlabel()` functions provide some labeling for plot context.\n",
    "\n",
    "You will now use these functions to create a histogram of the trip times for the city you selected in question 4c. Don't separate the Subscribers and Customers for now: just collect all of the trip times and plot them."
   ]
  },
  {
   "cell_type": "code",
   "execution_count": 17,
   "metadata": {
    "collapsed": true
   },
   "outputs": [],
   "source": [
    "## Use this and additional cells to collect all of the trip times as a list ##\n",
    "## and then use pyplot functions to generate a histogram of trip times.     ##\n",
    "def city_hist_plot(filename):\n",
    "    \"\"\"Function to collect duration info for Chicago in csv file and put it in list\n",
    "            to be used to plot graphs\n",
    "    \"\"\"\n",
    "    with open(filename, 'r') as f_in:\n",
    "        # set up csv reader object\n",
    "        reader = csv.DictReader(f_in)\n",
    "        #initialize list file\n",
    "        duration_list = []\n",
    "        for row in reader:  \n",
    "            #convert to float so that hist function treats data properly\n",
    "            duration_float = float(row['duration'])\n",
    "            duration_list.append(duration_float)\n",
    "        return duration_list\n",
    "    \n",
    "#test to see if list file was created properly\n",
    "datafile = './data/Chicago-2016-Summary.csv'\n",
    "duration_data = city_hist_plot(datafile)\n",
    "#print(duration_data)\n",
    "#Comment above: Duration data is displayed correctly - Removing before export report\n"
   ]
  },
  {
   "cell_type": "code",
   "execution_count": 18,
   "metadata": {},
   "outputs": [
    {
     "data": {
      "image/png": "[encoded data removed]",
      "text/plain": [
       "<matplotlib.figure.Figure at 0x7fa685f2e588>"
      ]
     },
     "metadata": {},
     "output_type": "display_data"
    }
   ],
   "source": [
    "#Create plot based on the duration_data list file created above\n",
    "plt.hist(duration_data)\n",
    "plt.title('Distribution of Trip Durations in Chicago')\n",
    "plt.xlabel('Duration (m)')\n",
    "plt.show()"
   ]
  },
  {
   "cell_type": "markdown",
   "metadata": {},
   "source": [
    "If you followed the use of the `.hist()` and `.show()` functions exactly like in the example, you're probably looking at a plot that's completely unexpected. The plot consists of one extremely tall bar on the left, maybe a very short second bar, and a whole lot of empty space in the center and right. Take a look at the duration values on the x-axis. This suggests that there are some highly infrequent outliers in the data. Instead of reprocessing the data, you will use additional parameters with the `.hist()` function to limit the range of data that is plotted. Documentation for the function can be found [[here]](https://matplotlib.org/devdocs/api/_as_gen/matplotlib.pyplot.hist.html#matplotlib.pyplot.hist).\n",
    "\n",
    "**Question 5**: Use the parameters of the `.hist()` function to plot the distribution of trip times for the Subscribers in your selected city. Do the same thing for only the Customers. Add limits to the plots so that only trips of duration less than 75 minutes are plotted. As a bonus, set the plots up so that bars are in five-minute wide intervals. For each group, where is the peak of each distribution? How would you describe the shape of each distribution?\n",
    "\n",
    "**Answer**: Peak for Subscribers is in the 5-10 minute mark, whereas for Customers it is in the 20-25 minute mark. Both distribution skew to the right due to heavy usage below 30 mins however the spread and range is signicantly different in both:\n",
    "\n",
    "Subscribers: The peak for subscribers amounts for the most number, with the areas around the peak (at less than 5 minutes and more than 5 minutes) also have high usage, but are signficntly lower than usage of 5 to 10 minutes. For example Subscibers using the bikes for less than 5 minutes is close to half that of usage in the 5 minute to 10 minute range. This results in the bigger skew\n",
    "\n",
    "Customers, on the other hand have a larger spread with the numbers of usage for the 15-20 minute mark being very close to the peak. Even usage frequency below 15 minutes and over 25 minutes are also signficant, resulting in a wider spread. The skew is lesser for customers as a higher proportion ends up going over the 30 minute 'extra-fee' limit. "
   ]
  },
  {
   "cell_type": "code",
   "execution_count": 19,
   "metadata": {},
   "outputs": [
    {
     "data": {
      "image/png": "[encoded data removed]",
      "text/plain": [
       "<matplotlib.figure.Figure at 0x7fa685c6d6d8>"
      ]
     },
     "metadata": {},
     "output_type": "display_data"
    },
    {
     "data": {
      "image/png": "[encoded data removed]",
      "text/plain": [
       "<matplotlib.figure.Figure at 0x7fa685abb6a0>"
      ]
     },
     "metadata": {},
     "output_type": "display_data"
    }
   ],
   "source": [
    "## Use this and additional cells to answer Question 5. ##\n",
    "# NOTE: For future ensure that you make better use of 'helper' functions\n",
    "# For this exercise chosen city for analysis is Chicago\n",
    "# Present approach is to learn about plotting and working with 'bins'\n",
    "def data_by_user(filename):\n",
    "    \"\"\"Function to output condensed list of duration data based on customer type\n",
    "    \"\"\"\n",
    "    with open(filename, 'r') as f_in:\n",
    "        # set up csv reader object\n",
    "        reader = csv.DictReader(f_in)\n",
    "        #initialize 2 list files\n",
    "        subscriber_list = []\n",
    "        customer_list = []\n",
    "        for row in reader:  \n",
    "            if row['user_type'] == 'Subscriber':\n",
    "                subscriber_list.append(float(row['duration']))\n",
    "            elif row['user_type'] == 'Customer':\n",
    "                customer_list.append(float(row['duration']))\n",
    "        return subscriber_list, customer_list\n",
    "\n",
    "#Set up test and datafile\n",
    "datafile = './data/Chicago-2016-Summary.csv'\n",
    "\n",
    "#Set up for user_type 'Subscriber', using function()[0]\n",
    "#Range and bins setup to better distribute data for accurate analysis\n",
    "plt.hist(data_by_user(datafile)[0], bins=15, range=(0,75))\n",
    "plt.title('Bikeshare Subscriber Distribution in Chicago')\n",
    "plt.xlabel('Trip Duration (m)')\n",
    "plt.show()\n",
    "\n",
    "#Customer distribution\n",
    "plt.hist(data_by_user(datafile)[1], bins=15, range=(0,75))\n",
    "plt.title('Bikeshare Customer Distribution in Chicago')\n",
    "plt.xlabel('Trip Duration (m)')\n",
    "plt.show()\n"
   ]
  },
  {
   "cell_type": "markdown",
   "metadata": {
    "collapsed": true
   },
   "source": [
    "<a id='eda_continued'></a>\n",
    "## Performing Your Own Analysis\n",
    "\n",
    "So far, you've performed an initial exploration into the data available. You have compared the relative volume of trips made between three U.S. cities and the ratio of trips made by Subscribers and Customers. For one of these cities, you have investigated differences between Subscribers and Customers in terms of how long a typical trip lasts. Now it is your turn to continue the exploration in a direction that you choose. Here are a few suggestions for questions to explore:\n",
    "\n",
    "- How does ridership differ by month or season? Which month / season has the highest ridership? Does the ratio of Subscriber trips to Customer trips change depending on the month or season?\n",
    "- Is the pattern of ridership different on the weekends versus weekdays? On what days are Subscribers most likely to use the system? What about Customers? Does the average duration of rides change depending on the day of the week?\n",
    "- During what time of day is the system used the most? Is there a difference in usage patterns for Subscribers and Customers?\n",
    "\n",
    "If any of the questions you posed in your answer to question 1 align with the bullet points above, this is a good opportunity to investigate one of them. As part of your investigation, you will need to create a visualization. If you want to create something other than a histogram, then you might want to consult the [Pyplot documentation](https://matplotlib.org/devdocs/api/pyplot_summary.html). In particular, if you are plotting values across a categorical variable (e.g. city, user type), a bar chart will be useful. The [documentation page for `.bar()`](https://matplotlib.org/devdocs/api/_as_gen/matplotlib.pyplot.bar.html#matplotlib.pyplot.bar) includes links at the bottom of the page with examples for you to build off of for your own use.\n",
    "\n",
    "**Question 6**: Continue the investigation by exploring another question that could be answered by the data available. Document the question you want to explore below. Your investigation should involve at least two variables and should compare at least two groups. You should also use at least one visualization as part of your explorations.\n",
    "\n",
    "**Answer**: Visualize is shown for riders in Chicago area. Visualization shows distinction amongst user types based on season. \n",
    "\n",
    "1. Releative usage according to season for both customer and subscribers are the same, with usage can organized in the following order (Highest to Lowest): Summer - Spring - Fall - Winter\n",
    "2. A more significant change in usage amongst customers season-to-season. Change in subscriber usage is very slight\n"
   ]
  },
  {
   "cell_type": "code",
   "execution_count": 20,
   "metadata": {},
   "outputs": [
    {
     "name": "stdout",
     "output_type": "stream",
     "text": [
      "{'spring': {'count': 11903, 'total': 142193.5500000001}, 'summer': {'count': 21198, 'total': 275325.88333333295}, 'fall': {'count': 16158, 'total': 185352.81666666677}, 'winter': {'count': 5723, 'total': 60606.63333333331}}\n"
     ]
    }
   ],
   "source": [
    "## Use this and additional cells to continue to explore the dataset. ##\n",
    "## Once you have performed your exploration, document your findings  ##\n",
    "## in the Markdown cell above.                                       ##\n",
    "\n",
    "def season_ridership(filename):\n",
    "    \"\"\"Rider ship calculated according to season\n",
    "        Winter is in (Dec,Jan, Feb); Fall is in (Sep,Oct,Nov); summer is in (June, july, aug); spring is (mar, apr, may)\n",
    "        Observed a pattern when creating repetitive conditionals and for statements. Effectively combined patterns \n",
    "                into a very effective function to output 'total' and 'count' according to 'user type' and season\n",
    "                \n",
    "        This was also a perfect time to learn about dictionaries. Effective loops/iterations were in effect due\n",
    "            to the use of dictionaries\n",
    "            -- Able to use the same key ('spring', 'summer') etc to identify output dictionary and conditional dictionary\n",
    "    \"\"\"\n",
    "    with open(filename, 'r') as f_in:\n",
    "        reader = csv.DictReader(f_in)\n",
    "        \n",
    "        #Create dictionary for the output format, making it easy to utilize collected data\n",
    "        subscriber_season = {'spring': {'count': 0, 'total': 0, }, \n",
    "                           'summer': {'count': 0, 'total': 0}, \n",
    "                           'fall': {'count': 0, 'total': 0}, \n",
    "                           'winter': {'count': 0, 'total': 0}}\n",
    "        customer_season = {'spring': {'count': 0, 'total': 0}, \n",
    "                           'summer': {'count': 0, 'total': 0}, \n",
    "                           'fall': {'count': 0, 'total': 0}, \n",
    "                           'winter': {'count': 0, 'total': 0}}\n",
    "\n",
    "        #Create a dictionary for months falling under a particular season\n",
    "        month_conversion =  {'spring': (3,4,5), \n",
    "                             'summer': (6,7,8), \n",
    "                             'fall': (9,10,11), \n",
    "                             'winter': (12,1,2) }\n",
    "       \n",
    "        for row in reader:\n",
    "            if row['user_type'] == 'Subscriber':\n",
    "                for season in month_conversion:\n",
    "                    if int(row['month']) in month_conversion[season]:\n",
    "                        subscriber_season[season]['total'] += float(row['duration'])\n",
    "                        subscriber_season[season]['count'] += 1\n",
    "            elif row['user_type'] == 'Customer':\n",
    "                for season in month_conversion:\n",
    "                    if int(row['month']) in month_conversion[season]:\n",
    "                        customer_season[season]['total'] += float(row['duration'])\n",
    "                        customer_season[season]['count'] += 1\n",
    "                        \n",
    "        return subscriber_season, customer_season\n",
    "\n",
    "#TEST - to verify output\n",
    "datafile = './data/Chicago-2016-Summary.csv'    \n",
    "print(season_ridership(datafile)[0])\n",
    "      \n",
    "                "
   ]
  },
  {
   "cell_type": "code",
   "execution_count": 21,
   "metadata": {},
   "outputs": [
    {
     "name": "stdout",
     "output_type": "stream",
     "text": [
      "[11.946026211879367, 12.98829527942886, 11.471272228411113, 10.590011066456983] [31.04742626599886, 32.00098941555467, 29.43722209912108, 24.814380952380976]\n"
     ]
    }
   ],
   "source": [
    "## Data from above needs to be conditioned to be used in a plot\n",
    "\n",
    "#Subscriber and customer averages in following order: (Spring, Summer, Fall, Winter)\n",
    "#List needs to be set up to be used in plot\n",
    "subscriber_averages = [];\n",
    "customer_averages = []\n",
    "\n",
    "#subscriber and customer data taken from output tuple from cell above \n",
    "subscriber_dict = season_ridership(datafile)[0]\n",
    "customer_dict = season_ridership(datafile)[1]\n",
    "\n",
    "# below the <dictionary>.keys() will return same values for both subscriber and customer, \n",
    "        # so just using it once\n",
    "for season in subscriber_dict.keys():\n",
    "    subscriber_averages.append(subscriber_dict[season]['total']/ subscriber_dict[season]['count']) \n",
    "    customer_averages.append(customer_dict[season]['total']/customer_dict[season]['count'])\n",
    "\n",
    "# Test to verify the output\n",
    "print(subscriber_averages, customer_averages)"
   ]
  },
  {
   "cell_type": "code",
   "execution_count": 22,
   "metadata": {},
   "outputs": [
    {
     "data": {
      "image/png": "[encoded data removed]",
      "text/plain": [
       "<matplotlib.figure.Figure at 0x7fa685a2b0f0>"
      ]
     },
     "metadata": {},
     "output_type": "display_data"
    }
   ],
   "source": [
    "# Used the conditioned list subscriber_averages and customer_averages to plot a stacked bar graph\n",
    "\n",
    "import numpy as np\n",
    "import matplotlib.pyplot as plt\n",
    "\n",
    "# to represent the number of seasons\n",
    "N=4\n",
    "ind = np.arange(N)    # the x locations for the groups\n",
    "width = 0.4       # the width of the bars: can also be len(x) sequence\n",
    "\n",
    "#note 'bottom' to stack subscribers on top\n",
    "#p1 = plt.bar(ind, subscriber_averages, width, bottom = customer_averages)\n",
    "#p2 = plt.bar(ind, customer_averages, width)\n",
    "p1 = plt.bar(ind-0.2, subscriber_averages, width)\n",
    "p2 = plt.bar(ind+0.2, customer_averages, width)\n",
    "\n",
    "plt.ylabel('Average duration')\n",
    "plt.title('Average duration per season split according to User Type')\n",
    "plt.xticks(ind, ('Spring', 'Summer', 'Fall', 'Winter'))\n",
    "plt.yticks(np.arange(0, 41, 5))\n",
    "plt.legend((p1[0], p2[0]), ('Subscribers', 'Customers'))\n",
    "\n",
    "plt.show()"
   ]
  },
  {
   "cell_type": "markdown",
   "metadata": {},
   "source": [
    "<a id='conclusions'></a>\n",
    "## Conclusions\n",
    "\n",
    "Congratulations on completing the project! This is only a sampling of the data analysis process: from generating questions, wrangling the data, and to exploring the data. Normally, at this point in the data analysis process, you might want to draw conclusions about the data by performing a statistical test or fitting the data to a model for making predictions. There are also a lot of potential analyses that could be performed on the data which are not possible with only the data provided. For example, detailed location data has not been investigated. Where are the most commonly used docks? What are the most common routes? As another example, weather has potential to have a large impact on daily ridership. How much is ridership impacted when there is rain or snow? Are subscribers or customers affected more by changes in weather?\n",
    "\n",
    "**Question 7**: Putting the bike share data aside, think of a topic or field of interest where you would like to be able to apply the techniques of data science. What would you like to be able to learn from your chosen subject?\n",
    "\n",
    "**Answer**: I work in the field of travel. There is an extensive amount of travel data and lots of data analysis can be done to provide valuable information to travel agencies, airlines as well as customer base\n",
    "\n",
    "It would be valuable to learn things like\n",
    "- Most popular destinations from home city (Toronto)\n",
    "- Most common time of travel to all cities compared to popular destination\n",
    "- Length of travel according to season\n",
    "\n",
    "> **Tip**: If we want to share the results of our analysis with others, we aren't limited to giving them a copy of the jupyter Notebook (.ipynb) file. We can also export the Notebook output in a form that can be opened even for those without Python installed. From the **File** menu in the upper left, go to the **Download as** submenu. You can then choose a different format that can be viewed more generally, such as HTML (.html) or\n",
    "PDF (.pdf). You may need additional packages or software to perform these exports."
   ]
  }
 ],
 "metadata": {
  "anaconda-cloud": {},
  "kernelspec": {
   "display_name": "Python 3",
   "language": "python",
   "name": "python3"
  },
  "language_info": {
   "codemirror_mode": {
    "name": "ipython",
    "version": 3
   },
   "file_extension": ".py",
   "mimetype": "text/x-python",
   "name": "python",
   "nbconvert_exporter": "python",
   "pygments_lexer": "ipython3",
   "version": "3.7.2"
  }
 },
 "nbformat": 4,
 "nbformat_minor": 1
}
